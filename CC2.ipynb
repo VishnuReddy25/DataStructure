{
  "nbformat": 4,
  "nbformat_minor": 0,
  "metadata": {
    "colab": {
      "provenance": [],
      "include_colab_link": true
    },
    "kernelspec": {
      "name": "python3",
      "display_name": "Python 3"
    },
    "language_info": {
      "name": "python"
    }
  },
  "cells": [
    {
      "cell_type": "markdown",
      "metadata": {
        "id": "view-in-github",
        "colab_type": "text"
      },
      "source": [
        "<a href=\"https://colab.research.google.com/github/VishnuReddy25/DataStructure/blob/main/CC2.ipynb\" target=\"_parent\"><img src=\"https://colab.research.google.com/assets/colab-badge.svg\" alt=\"Open In Colab\"/></a>"
      ]
    },
    {
      "cell_type": "code",
      "execution_count": null,
      "metadata": {
        "id": "AqIIdhmc96cA",
        "colab": {
          "base_uri": "https://localhost:8080/"
        },
        "outputId": "0d1ea8d9-1e1c-4319-d3b1-81aa4bab5a0e"
      },
      "outputs": [
        {
          "output_type": "stream",
          "name": "stdout",
          "text": [
            "You rolled a 5\n",
            "You landed on a ladder or snake!\n",
            "Your new position is: 5\n",
            "You rolled a 5\n",
            "Your new position is: 10\n",
            "You rolled a 1\n",
            "You landed on a ladder or snake!\n",
            "Your new position is: 9\n",
            "You rolled a 4\n",
            "Your new position is: 13\n",
            "You win!\n"
          ]
        }
      ],
      "source": [
        "# 1. snake and ladder\n",
        "import random\n",
        "\n",
        "def roll_dice():\n",
        "    return random.randint(1, 6)\n",
        "\n",
        "def play_game(board):\n",
        "    player_position = 0\n",
        "    while player_position < len(board) - 1:\n",
        "        dice_roll = roll_dice()\n",
        "        print(\"You rolled a\", dice_roll)\n",
        "        new_position = player_position + dice_roll\n",
        "        if new_position < len(board):\n",
        "            player_position = new_position\n",
        "            if board[player_position] != 0:\n",
        "                print(\"You landed on a ladder or snake!\")\n",
        "                player_position = board[player_position] - 1\n",
        "            print(\"Your new position is:\", player_position + 1)\n",
        "        else:\n",
        "            print(\"You rolled too high!\")\n",
        "    print(\"You win!\")\n",
        "\n",
        "# Example usage\n",
        "board = [0, 2, 0, 0, 0, 5, 0, 0, 0, 0, 9, 0, 0]\n",
        "play_game(board)"
      ]
    },
    {
      "cell_type": "code",
      "source": [
        "# 2. Find the minimum time required to rot all oranges. If it is impossible to rot every\n",
        "\n",
        "# orange then return -1.\n",
        "\n",
        "from collections import deque\n",
        "\n",
        "class Solution:\n",
        "    def orangesRotting(self, grid):\n",
        "        rows, cols = len(grid), len(grid[0])\n",
        "        queue = deque([(i, j) for i in range(rows) for j in range(cols) if grid[i][j] == 2])\n",
        "        time = -1\n",
        "        directions = [(1, 0), (-1, 0), (0, 1), (0, -1)]\n",
        "\n",
        "        while queue:\n",
        "            time += 1\n",
        "            for _ in range(len(queue)):\n",
        "                x, y = queue.popleft()\n",
        "                for dx, dy in directions:\n",
        "                    nx, ny = x + dx, y + dy\n",
        "                    if 0 <= nx < rows and 0 <= ny < cols and grid[nx][ny] == 1:\n",
        "                        grid[nx][ny] = 2\n",
        "                        queue.append((nx, ny))\n",
        "\n",
        "        return time if all(row.count(1) == 0 for row in grid) else -1\n",
        "if __name__ == \"__main__\":\n",
        "    grid = [[2,1,1],\n",
        "            [1,1,0],\n",
        "            [0,1,1]]\n",
        "\n",
        "    solution = Solution()\n",
        "    result = solution.orangesRotting(grid)\n",
        "\n",
        "    print(result)  # Output: 2"
      ],
      "metadata": {
        "colab": {
          "base_uri": "https://localhost:8080/"
        },
        "id": "yAw2U1-_-J9P",
        "outputId": "c08e6d23-ce45-4454-d5fd-1383df2fc9c7"
      },
      "execution_count": null,
      "outputs": [
        {
          "output_type": "stream",
          "name": "stdout",
          "text": [
            "4\n"
          ]
        }
      ]
    },
    {
      "cell_type": "code",
      "source": [
        "# 3. Find out minimum no. of swaps required to convert binary tree to binary search tree.\n",
        "from collections import deque\n",
        "\n",
        "class Node:\n",
        "    def __init__(self, val):\n",
        "        self.val = val\n",
        "        self.left = None\n",
        "        self.right = None\n",
        "\n",
        "def inversion_count(arr):\n",
        "    \"\"\"Calculates the inversion count in an array.\n",
        "\n",
        "    Args:\n",
        "        arr: The input array.\n",
        "\n",
        "    Returns:\n",
        "        The number of inversions.\n",
        "    \"\"\"\n",
        "\n",
        "    count = 0\n",
        "    for i in range(len(arr)):\n",
        "        for j in range(i + 1, len(arr)):\n",
        "            if arr[i] > arr[j]:\n",
        "                count += 1\n",
        "    return count\n",
        "\n",
        "def minSwaps(root):\n",
        "    \"\"\"Calculates the minimum number of swaps to convert a binary tree to a BST.\n",
        "\n",
        "    Args:\n",
        "        root: The root node of the binary tree.\n",
        "\n",
        "    Returns:\n",
        "        The minimum number of swaps.\n",
        "    \"\"\"\n",
        "\n",
        "    inorder = []\n",
        "    def inorder_traversal(node):\n",
        "        if not node:\n",
        "            return\n",
        "        inorder_traversal(node.left)\n",
        "        inorder.append(node.val)\n",
        "        inorder_traversal(node.right)\n",
        "\n",
        "    inorder_traversal(root)\n",
        "    # sorted_inorder = sorted(inorder)\n",
        "\n",
        "    # Calculate inversions in the inorder array\n",
        "    return inversion_count(inorder)\n",
        "\n",
        "# Driver code\n",
        "if __name__ == \"__main__\":\n",
        "    # Create a binary tree\n",
        "    root = Node(5)\n",
        "    root.left = Node(3)\n",
        "    root.right = Node(6)\n",
        "    root.left.left = Node(9)\n",
        "    root.left.right = Node(4)\n",
        "\n",
        "    min_swaps = minSwaps(root)\n",
        "    print(\"Minimum swaps required:\", min_swaps)"
      ],
      "metadata": {
        "id": "sdLXNZAb_JV0",
        "colab": {
          "base_uri": "https://localhost:8080/"
        },
        "outputId": "ef417760-1f2c-437e-9823-27cd49636a0e"
      },
      "execution_count": null,
      "outputs": [
        {
          "output_type": "stream",
          "name": "stdout",
          "text": [
            "Minimum swaps required: 4\n"
          ]
        }
      ]
    },
    {
      "cell_type": "code",
      "source": [
        "# 5. Construct a binary tree from inorder and postorder traversals.\n",
        "class Node:\n",
        "    def __init__(self, val):\n",
        "        self.val = val\n",
        "        self.left = None\n",
        "        self.right = None\n",
        "\n",
        "def buildTree(inorder, postorder):\n",
        "    \"\"\"Builds a binary tree from inorder and postorder traversals.\"\"\"\n",
        "    if not inorder or not postorder:\n",
        "        return None\n",
        "\n",
        "    # Root is the last element in postorder traversal\n",
        "    root_val = postorder.pop()\n",
        "    root_index = inorder.index(root_val)\n",
        "\n",
        "    root = Node(root_val)\n",
        "    # Recursively build right subtree before left, because of postorder's left-right-root order\n",
        "    root.right = buildTree(inorder[root_index + 1:], postorder)\n",
        "    root.left = buildTree(inorder[:root_index], postorder)\n",
        "\n",
        "    return root\n",
        "\n",
        "# Example usage with consistent traversals\n",
        "inorder = [9, 3, 15, 20, 7]\n",
        "postorder = [9, 15, 7, 20, 3]\n",
        "root = buildTree(inorder, postorder)\n",
        "\n",
        "# Function to print inorder traversal of the tree for verification\n",
        "def printInorder(root):\n",
        "    if root:\n",
        "        printInorder(root.left)\n",
        "        print(root.val, end=\" \")\n",
        "        printInorder(root.right)\n",
        "\n",
        "# Printing the inorder traversal of the constructed tree\n",
        "printInorder(root)  # Expected output: 9 3 15 20 7\n"
      ],
      "metadata": {
        "id": "dmDmmvlP_Mjy",
        "colab": {
          "base_uri": "https://localhost:8080/"
        },
        "outputId": "117a8305-fb4a-4c79-8094-c0c064a87728"
      },
      "execution_count": null,
      "outputs": [
        {
          "output_type": "stream",
          "name": "stdout",
          "text": [
            "9 3 15 20 7 "
          ]
        }
      ]
    },
    {
      "cell_type": "code",
      "source": [
        "# 4. Check the binary tree is height balanced binary tree or not\n",
        "class Node:\n",
        "    def __init__(self, val):\n",
        "        self.val = val\n",
        "        self.left = None\n",
        "        self.right = None\n",
        "\n",
        "def height(root):\n",
        "    if not root:\n",
        "        return 0\n",
        "    return 1 + max(height(root.left), height(root.right))\n",
        "\n",
        "def isBalanced(root):\n",
        "    \"\"\"Checks if a binary tree is height-balanced.\n",
        "    Args:\n",
        "        root: The root node of the binary tree.\n",
        "    Returns:\n",
        "        True if the tree is balanced, False otherwise.\n",
        "    \"\"\"\n",
        "    if not root:\n",
        "        return True\n",
        "\n",
        "    left_height = height(root.left)\n",
        "    right_height = height(root.right)\n",
        "\n",
        "    if abs(left_height - right_height) > 1:\n",
        "        return False\n",
        "\n",
        "    return isBalanced(root.left) and isBalanced(root.right)\n",
        "\n",
        "# Example usage:\n",
        "# Create a balanced binary tree\n",
        "root = Node(1)\n",
        "root.left = Node(2)\n",
        "root.right = Node(3)\n",
        "root.left.left = Node(4)\n",
        "root.left.right = Node(5)\n",
        "\n",
        "print(isBalanced(root))  # Output: True"
      ],
      "metadata": {
        "id": "dwX1Gl8j_PaL",
        "colab": {
          "base_uri": "https://localhost:8080/"
        },
        "outputId": "008afd0d-dba9-48ba-ad49-11e875a515e0"
      },
      "execution_count": null,
      "outputs": [
        {
          "output_type": "stream",
          "name": "stdout",
          "text": [
            "True\n"
          ]
        }
      ]
    },
    {
      "cell_type": "code",
      "source": [
        "# 7. Check whether the undirected graph contains any cycle or not using DFS.\n",
        "def dfs(graph, node, visited, parent):\n",
        "    visited[node] = True\n",
        "\n",
        "    for neighbor in graph[node]:\n",
        "        if not visited[neighbor]:\n",
        "            if dfs(graph, neighbor, visited, node):\n",
        "                return True\n",
        "        elif parent != neighbor:\n",
        "            return True\n",
        "    return False\n",
        "\n",
        "def hasCycle(graph, n):\n",
        "    visited = [False] * n\n",
        "\n",
        "    for node in range(n):\n",
        "        if not visited[node]:\n",
        "            if dfs(graph, node, visited, -1):\n",
        "                return True\n",
        "    return False\n",
        "\n",
        "# Example usage\n",
        "if __name__ == \"__main__\":\n",
        "    graph = {\n",
        "        0: [1, 2],\n",
        "        1: [0, 2],\n",
        "        2: [0, 1],\n",
        "        3: [4],\n",
        "        4: [3]\n",
        "    }\n",
        "    n = 5  # Number of vertices in the graph\n",
        "\n",
        "    if hasCycle(graph, n):\n",
        "        print(\"Graph contains a cycle\")\n",
        "    else:\n",
        "        print(\"Graph does not contain a cycle\")\n"
      ],
      "metadata": {
        "id": "a-G3DpTh_RYz",
        "colab": {
          "base_uri": "https://localhost:8080/"
        },
        "outputId": "22a12410-426e-4b06-cf2c-1f8333d59b39"
      },
      "execution_count": null,
      "outputs": [
        {
          "output_type": "stream",
          "name": "stdout",
          "text": [
            "Graph contains a cycle\n"
          ]
        }
      ]
    },
    {
      "cell_type": "code",
      "source": [
        "from collections import deque\n",
        "\n",
        "def detectCycleBFS(graph, n):\n",
        "    # Step 1: Calculate in-degree for each node\n",
        "    in_degree = [0] * n\n",
        "    for node in range(n):\n",
        "        for neighbor in graph[node]:\n",
        "            in_degree[neighbor] += 1\n",
        "\n",
        "    # Step 2: Initialize queue with nodes having zero in-degree\n",
        "    queue = deque([i for i in range(n) if in_degree[i] == 0])\n",
        "\n",
        "    # Step 3: Process nodes and update in-degree of their neighbors\n",
        "    visited_count = 0\n",
        "    while queue:\n",
        "        node = queue.popleft()\n",
        "        visited_count += 1\n",
        "\n",
        "        for neighbor in graph[node]:\n",
        "            in_degree[neighbor] -= 1\n",
        "            if in_degree[neighbor] == 0:\n",
        "                queue.append(neighbor)\n",
        "\n",
        "    # Step 4: If the visited nodes count is not equal to the number of nodes, there's a cycle\n",
        "    return visited_count != n\n",
        "\n",
        "# Example usage\n",
        "if __name__ == \"__main__\":\n",
        "    # Example directed graph (adjacency list)\n",
        "    graph = {\n",
        "        0: [1, 2],\n",
        "        1: [2],\n",
        "        2: [0],\n",
        "        3: [4],\n",
        "        4: []\n",
        "    }\n",
        "    n = 5  # Number of vertices\n",
        "\n",
        "    if detectCycleBFS(graph, n):\n",
        "        print(\"Graph contains a cycle\")\n",
        "    else:\n",
        "        print(\"Graph does not contain a cycle\")\n"
      ],
      "metadata": {
        "id": "jmQhxrXa_Taj",
        "colab": {
          "base_uri": "https://localhost:8080/"
        },
        "outputId": "b4b31a05-0198-47a8-9d74-78389c652345"
      },
      "execution_count": null,
      "outputs": [
        {
          "output_type": "stream",
          "name": "stdout",
          "text": [
            "Graph contains a cycle\n"
          ]
        }
      ]
    },
    {
      "cell_type": "code",
      "source": [
        "#9\n",
        "def generate_stack_sequences(sequence, stack, output, results):\n",
        "    if not sequence and not stack:  # If there are no elements left to push or pop\n",
        "        results.append(output[:])  # Record the current output sequence\n",
        "        return\n",
        "\n",
        "    # Push operation: if there's any element left in the sequence, push it onto the stack\n",
        "    if sequence:\n",
        "        generate_stack_sequences(sequence[1:], stack + [sequence[0]], output, results)\n",
        "\n",
        "    # Pop operation: if there's any element in the stack, pop it and add it to the output\n",
        "    if stack:\n",
        "        generate_stack_sequences(sequence, stack[:-1], output + [stack[-1]], results)\n",
        "\n",
        "def find_all_sequences(sequence):\n",
        "    results = []\n",
        "    generate_stack_sequences(sequence, [], [], results)\n",
        "    return results\n",
        "\n",
        "# Example usage\n",
        "sequence = [1, 2, 3, 4]\n",
        "all_sequences = find_all_sequences(sequence)\n",
        "for seq in all_sequences:\n",
        "    print(seq)\n"
      ],
      "metadata": {
        "id": "I25F4ls1_XCb",
        "colab": {
          "base_uri": "https://localhost:8080/"
        },
        "outputId": "31e079fd-d28c-440e-a669-94b97d8d7906"
      },
      "execution_count": null,
      "outputs": [
        {
          "output_type": "stream",
          "name": "stdout",
          "text": [
            "[4, 3, 2, 1]\n",
            "[3, 4, 2, 1]\n",
            "[3, 2, 4, 1]\n",
            "[3, 2, 1, 4]\n",
            "[2, 4, 3, 1]\n",
            "[2, 3, 4, 1]\n",
            "[2, 3, 1, 4]\n",
            "[2, 1, 4, 3]\n",
            "[2, 1, 3, 4]\n",
            "[1, 4, 3, 2]\n",
            "[1, 3, 4, 2]\n",
            "[1, 3, 2, 4]\n",
            "[1, 2, 4, 3]\n",
            "[1, 2, 3, 4]\n"
          ]
        }
      ]
    },
    {
      "cell_type": "code",
      "source": [
        "# 10. Find the max. no. of meetings that can be accommodated if only one meeting can\n",
        "# happen in the room at a particular time. Print the order in which these meetings will\n",
        "# be performed.\n",
        "def maxMeetings(start, end):\n",
        "    meetings = [(start[i], end[i]) for i in range(len(start))]\n",
        "    meetings.sort(key=lambda x: x[1])\n",
        "    print(meetings)\n",
        "    count = 1\n",
        "    end_time = meetings[0][1]\n",
        "    for i in range(1, len(meetings)):\n",
        "        if meetings[i][0] >= end_time:\n",
        "            count += 1\n",
        "            end_time = meetings[i][1]\n",
        "    return count\n",
        "\n",
        "start = [1, 3, 0, 5, 8, 5]\n",
        "end = [2, 4, 6, 7, 9, 9]\n",
        "\n",
        "print(maxMeetings(start, end))"
      ],
      "metadata": {
        "id": "wB_SG7z1_cPq",
        "colab": {
          "base_uri": "https://localhost:8080/"
        },
        "outputId": "84311707-2b05-408c-c83f-805b1a89f9fc"
      },
      "execution_count": 2,
      "outputs": [
        {
          "output_type": "stream",
          "name": "stdout",
          "text": [
            "[(1, 2), (3, 4), (0, 6), (5, 7), (8, 9), (5, 9)]\n",
            "4\n"
          ]
        }
      ]
    },
    {
      "cell_type": "code",
      "source": [
        "# 11. Check if a given binary tree is a max heap tree or not\n",
        "from collections import deque\n",
        "\n",
        "class Node:\n",
        "    def __init__(self, val):\n",
        "        self.val = val\n",
        "        self.left = None\n",
        "        self.right = None\n",
        "\n",
        "def is_max_heap(root):\n",
        "    if not root:\n",
        "        return True\n",
        "\n",
        "    queue = deque([root])\n",
        "    while queue:\n",
        "        node = queue.popleft()\n",
        "\n",
        "        if node.left:\n",
        "            if node.val < node.left.val:\n",
        "                return False\n",
        "            queue.append(node.left)\n",
        "\n",
        "        if node.right:\n",
        "            if node.val < node.right.val:\n",
        "                return False\n",
        "            queue.append(node.right)\n",
        "\n",
        "    return True\n",
        "\n",
        "# Example usage:\n",
        "root = Node(10)\n",
        "root.left = Node(9)\n",
        "root.right = Node(8)\n",
        "root.left.left = Node(7)\n",
        "root.left.right = Node(6)\n",
        "\n",
        "print(is_max_heap(root))"
      ],
      "metadata": {
        "id": "8NhwFNxh_hli",
        "colab": {
          "base_uri": "https://localhost:8080/"
        },
        "outputId": "31ca2f1f-163a-4b88-8f2e-dd6e6f946ac2"
      },
      "execution_count": null,
      "outputs": [
        {
          "output_type": "stream",
          "name": "stdout",
          "text": [
            "True\n"
          ]
        }
      ]
    },
    {
      "cell_type": "code",
      "source": [
        "#12 Connect 'n' ropes with the minimum cost using heap tree.Given 'n' ropes of different\n",
        "# lengths, the task is to connect these ropes with minimum cost,such that the cost to\n",
        "# connect 2 ropes is equal to the sum of their length(implement using the heap tree).\n",
        "\n",
        "import heapq\n",
        "\n",
        "def minCost(arr, n):\n",
        "    heapq.heapify(arr)\n",
        "    cost = 0\n",
        "    while len(arr) > 1:\n",
        "        x = heapq.heappop(arr)\n",
        "        y = heapq.heappop(arr)\n",
        "        cost += x + y\n",
        "        heapq.heappush(arr, x + y)\n",
        "    return cost\n",
        "\n",
        "arr = [4, 3, 2, 6]\n",
        "n = len(arr)\n",
        "\n",
        "print(\"Minimum cost to connect ropes:\", minCost(arr, n))"
      ],
      "metadata": {
        "id": "QtNYi-yc_k6q",
        "colab": {
          "base_uri": "https://localhost:8080/"
        },
        "outputId": "9fd6172e-53f9-4384-9a79-e4bd32042376"
      },
      "execution_count": null,
      "outputs": [
        {
          "output_type": "stream",
          "name": "stdout",
          "text": [
            "Minimum cost to connect ropes: 29\n"
          ]
        }
      ]
    },
    {
      "cell_type": "code",
      "source": [
        "def fill_board(board, size, missing_x, missing_y, start_x, start_y, tile_num=[1]):\n",
        "    if size == 2:\n",
        "        # L-shaped tile fitting around the missing cell\n",
        "        for i in range(start_x, start_x + 2):\n",
        "            for j in range(start_y, start_y + 2):\n",
        "                if (i, j) != (missing_x, missing_y):\n",
        "                    board[i][j] = tile_num[0]\n",
        "        tile_num[0] += 1\n",
        "        return\n",
        "\n",
        "    mid = size // 2\n",
        "    # Position the L-shaped tile in the middle\n",
        "    center_positions = [\n",
        "        (start_x + mid - 1, start_y + mid - 1), (start_x + mid - 1, start_y + mid),\n",
        "        (start_x + mid, start_y + mid - 1), (start_x + mid, start_y + mid)\n",
        "    ]\n",
        "\n",
        "    # Recursively tile each quadrant, shifting the \"missing cell\" as needed\n",
        "    quadrants = [(start_x, start_y), (start_x, start_y + mid),\n",
        "                 (start_x + mid, start_y), (start_x + mid, start_y + mid)]\n",
        "    for k, (qx, qy) in enumerate(quadrants):\n",
        "        if missing_x < qx + mid and missing_y < qy + mid:\n",
        "            fill_board(board, mid, missing_x, missing_y, qx, qy, tile_num)\n",
        "            for i in range(4):\n",
        "                if i != k:\n",
        "                    board[center_positions[i][0]][center_positions[i][1]] = tile_num[0]\n",
        "            tile_num[0] += 1\n",
        "        else:\n",
        "            mx, my = center_positions[k]\n",
        "            fill_board(board, mid, mx, my, qx, qy, tile_num)\n",
        "\n",
        "# Initialize the board\n",
        "N = 8  # Ensure N is a power of 2\n",
        "board = [[0] * N for _ in range(N)]\n",
        "fill_board(board, N, 3, 3, 0, 0)\n",
        "\n",
        "# Print the board\n",
        "for row in board:\n",
        "    print(\" \".join(map(str, row)))\n"
      ],
      "metadata": {
        "id": "NjdD0YfC_pKS",
        "colab": {
          "base_uri": "https://localhost:8080/"
        },
        "outputId": "034df814-45ee-4623-87a2-49b15218f186"
      },
      "execution_count": null,
      "outputs": [
        {
          "output_type": "stream",
          "name": "stdout",
          "text": [
            "1 1 2 2 7 7 8 8\n",
            "1 5 5 2 7 12 12 8\n",
            "3 5 4 4 9 12 11 11\n",
            "3 3 4 29 29 9 11 11\n",
            "14 14 15 29 21 21 23 23\n",
            "14 19 19 15 21 28 28 23\n",
            "17 19 18 18 25 28 27 27\n",
            "17 17 18 18 25 25 27 27\n"
          ]
        }
      ]
    },
    {
      "cell_type": "code",
      "source": [
        "#14. Climbing staircases: you can climb a staircase of n steps you can take one or two steps\n",
        "\n",
        "# at a time.\n",
        "def climb_stairs(n):\n",
        "    if n == 0 or n==1:\n",
        "        return 1\n",
        "    return climb_stairs(n - 1) + climb_stairs(n - 2)\n",
        "\n",
        "\n",
        "n = 7\n",
        "print(f\"Number of ways to climb {n} steps: {climb_stairs(n)}\")\n"
      ],
      "metadata": {
        "id": "iI4a-63W_tpS",
        "colab": {
          "base_uri": "https://localhost:8080/"
        },
        "outputId": "a4382354-5f98-43df-cc7b-2ce0cdbc1f81"
      },
      "execution_count": null,
      "outputs": [
        {
          "output_type": "stream",
          "name": "stdout",
          "text": [
            "Number of ways to climb 7 steps: 21\n"
          ]
        }
      ]
    },
    {
      "cell_type": "code",
      "source": [
        "#15\n",
        "def rob_houses(nums):\n",
        "    if not nums:\n",
        "        return 0\n",
        "    if len(nums) == 1:\n",
        "        return nums[0]\n",
        "\n",
        "    dp = [0] * len(nums)\n",
        "    dp[0] = nums[0]\n",
        "    dp[1] = max(nums[0], nums[1])\n",
        "\n",
        "    for i in range(2, len(nums)):\n",
        "        dp[i] = max(dp[i - 2] + nums[i], dp[i - 1])\n",
        "\n",
        "    return dp[-1]\n",
        "\n",
        "nums = [2, 7, 3, 1, 4, 2, 1, 8]\n",
        "print(f\"Maximum amount of money: {rob_houses(nums)}\")\n"
      ],
      "metadata": {
        "id": "znzRno53_w26",
        "colab": {
          "base_uri": "https://localhost:8080/"
        },
        "outputId": "76c5c035-6988-487d-9cf1-dcf8f7c37098"
      },
      "execution_count": null,
      "outputs": [
        {
          "output_type": "stream",
          "name": "stdout",
          "text": [
            "Maximum amount of money: 19\n"
          ]
        }
      ]
    },
    {
      "cell_type": "code",
      "source": [
        "#16\n",
        "def coin_change(coins, amount):\n",
        "    dp = [float('inf')] * (amount + 1)\n",
        "    dp[0] = 0\n",
        "\n",
        "    for i in range(1, amount + 1):\n",
        "        for coin in coins:\n",
        "            if i >= coin:\n",
        "                dp[i] = min(dp[i], dp[i - coin] + 1)\n",
        "\n",
        "    return dp[amount] if dp[amount] != float('inf') else -1\n",
        "\n",
        "coins = [1, 5, 6, 9]\n",
        "amount = 4\n",
        "print(f\"Minimum coins needed: {coin_change(coins, amount)}\")\n"
      ],
      "metadata": {
        "id": "Slqhtwgp_1Zq",
        "colab": {
          "base_uri": "https://localhost:8080/"
        },
        "outputId": "bf01cab8-106f-480b-f34f-39389367c02c"
      },
      "execution_count": null,
      "outputs": [
        {
          "output_type": "stream",
          "name": "stdout",
          "text": [
            "Minimum coins needed: 4\n"
          ]
        }
      ]
    },
    {
      "cell_type": "code",
      "source": [
        "#17\n",
        "def find_subsets(nums):\n",
        "    def backtrack(start, path):\n",
        "        result.append(path[:])\n",
        "        for i in range(start, len(nums)):\n",
        "            path.append(nums[i])\n",
        "            backtrack(i + 1, path)\n",
        "            path.pop()\n",
        "\n",
        "    result = []\n",
        "    backtrack(0, [])\n",
        "    return result\n",
        "\n",
        "nums = [1, 2, 3]\n",
        "all_subsets = find_subsets(nums)\n",
        "print(\"All possible subsets:\")\n",
        "for subset in all_subsets:\n",
        "    print(subset)\n",
        "print(\"\\nTotal number of subsets:\", len(all_subsets))\n"
      ],
      "metadata": {
        "id": "TQOn0_Oy_57C",
        "colab": {
          "base_uri": "https://localhost:8080/"
        },
        "outputId": "50ac4593-bc3a-45f7-85fc-1ecb55e65680"
      },
      "execution_count": null,
      "outputs": [
        {
          "output_type": "stream",
          "name": "stdout",
          "text": [
            "All possible subsets:\n",
            "[]\n",
            "[1]\n",
            "[1, 2]\n",
            "[1, 2, 3]\n",
            "[1, 3]\n",
            "[2]\n",
            "[2, 3]\n",
            "[3]\n",
            "\n",
            "Total number of subsets: 8\n"
          ]
        }
      ]
    },
    {
      "cell_type": "code",
      "source": [
        "# 18. Search for the given word\n",
        "\n",
        "# Given a 2D grid of characters board and a string word return True ,if the word is\n",
        "# present in the grid otherwise return false.\n",
        "def exist(board, word):\n",
        "    rows, cols = len(board), len(board[0])\n",
        "\n",
        "    def dfs(r, c, i):\n",
        "        return i == len(word) or \\\n",
        "               0 <= r < rows and 0 <= c < cols and \\\n",
        "               board[r][c] == word[i] and \\\n",
        "               (dfs(r + 1, c, i + 1) or\n",
        "                dfs(r - 1, c, i + 1) or\n",
        "                dfs(r, c + 1, i + 1) or\n",
        "                dfs(r, c - 1, i + 1))\n",
        "\n",
        "    for r in range(rows):\n",
        "      for c in range(cols):\n",
        "        if dfs(r, c, 0):\n",
        "            return True\n",
        "    return False\n",
        "if __name__ == \"__main__\":\n",
        "    board = [\n",
        "        ['A', 'B', 'C', 'E'],\n",
        "        ['S', 'F', 'C', 'S'],\n",
        "        ['A', 'D', 'E', 'E']\n",
        "    ]\n",
        "    word = \"ABCCED\"\n",
        "\n",
        "    if exist(board, word):\n",
        "        print(\"Word found!\")\n",
        "    else:\n",
        "        print(\"Word not found.\")"
      ],
      "metadata": {
        "id": "0EslVLMT_9-p",
        "colab": {
          "base_uri": "https://localhost:8080/"
        },
        "outputId": "c58beb2e-cea9-4765-d0de-52a8a8646abf"
      },
      "execution_count": null,
      "outputs": [
        {
          "output_type": "stream",
          "name": "stdout",
          "text": [
            "Word found!\n"
          ]
        }
      ]
    },
    {
      "cell_type": "code",
      "source": [],
      "metadata": {
        "id": "0oDN7pN9tyPk"
      },
      "execution_count": null,
      "outputs": []
    },
    {
      "cell_type": "code",
      "source": [
        "# 20. Greedy Method\n",
        "# Gas Station\n",
        "# There are n gas stations,along a circular route.Your are given two integer arrays gas\n",
        "# and cost , where gas[i] is the amt of gas at ith station cost[i] is the amt of gas needed\n",
        "# to travel from the ith station to the i+1th station (the last station is connected to the\n",
        "# first station) You have a car that can store an unlimited at of gas but u begin the\n",
        "# journey with an empty tank at one of the gas stations. return the starting gas station\n",
        "# index such that u can travel around the circle once in the clockwise direction.If it is\n",
        "# impossible return -1.\n",
        "def canCompleteCircuit(gas, cost):\n",
        "    n = len(gas)\n",
        "    total_gas = sum(gas)\n",
        "    total_cost = sum(cost)\n",
        "\n",
        "    if total_gas < total_cost:\n",
        "        return -1\n",
        "\n",
        "    current_gas = 0\n",
        "    start_index = 0\n",
        "\n",
        "    for i in range(n):\n",
        "        current_gas += gas[i] - cost[i]\n",
        "\n",
        "        if current_gas < 0:\n",
        "            start_index = i + 1\n",
        "            current_gas = 0\n",
        "\n",
        "    return start_index\n",
        "\n",
        "gas = [1, 3, 2]\n",
        "cost = [2, 1, 3]\n",
        "print(canCompleteCircuit(gas, cost))"
      ],
      "metadata": {
        "id": "gouPeUFmABvD",
        "colab": {
          "base_uri": "https://localhost:8080/"
        },
        "outputId": "1cc73a98-501a-426a-b87a-d96d7c5f58dd"
      },
      "execution_count": null,
      "outputs": [
        {
          "output_type": "stream",
          "name": "stdout",
          "text": [
            "1\n"
          ]
        }
      ]
    },
    {
      "cell_type": "code",
      "source": [
        "#20\n",
        "def multiply(x, y):\n",
        "    result = 0\n",
        "    while y > 0:\n",
        "        if y & 1:\n",
        "            result += x\n",
        "        x <<= 1\n",
        "        y >>= 1\n",
        "    return result\n",
        "\n",
        "x = 5\n",
        "y = 3\n",
        "print(f\"Multiplication of {x} and {y} is {multiply(x, y)}\")"
      ],
      "metadata": {
        "id": "06zm5iXxqVVq"
      },
      "execution_count": null,
      "outputs": []
    },
    {
      "cell_type": "code",
      "source": [
        "def fill_board(board, x, y, size, missing_x, missing_y, tile_number):\n",
        "    if size == 2:\n",
        "        # Base case: when the board size is 2x2, we directly fill it\n",
        "        for i in range(x, x + 2):\n",
        "            for j in range(y, y + 2):\n",
        "                if (i, j) != (missing_x, missing_y):\n",
        "                    board[i][j] = tile_number\n",
        "        return tile_number + 1\n",
        "\n",
        "    # Half of the current board size\n",
        "    half_size = size // 2\n",
        "\n",
        "    # Determine the center of the current square\n",
        "    center_x = x + half_size - 1\n",
        "    center_y = y + half_size - 1\n",
        "\n",
        "    # Depending on the position of the missing cell, decide the orientation of the L-tile\n",
        "    new_tile_number = tile_number\n",
        "\n",
        "    # We divide the board into four sub-boards, and place the L-shaped tile accordingly\n",
        "    if missing_x < center_x and missing_y < center_y:\n",
        "        new_tile_number = fill_board(board, x, y, half_size, missing_x, missing_y, new_tile_number)\n",
        "        new_tile_number = fill_board(board, x + half_size, y, half_size, center_x, center_y, new_tile_number)\n",
        "        new_tile_number = fill_board(board, x, y + half_size, half_size, center_x, center_y, new_tile_number)\n",
        "        new_tile_number = fill_board(board, x + half_size, y + half_size, half_size, center_x, center_y, new_tile_number)\n",
        "    elif missing_x < center_x and missing_y >= center_y:\n",
        "        new_tile_number = fill_board(board, x, y, half_size, center_x, center_y, new_tile_number)\n",
        "        new_tile_number = fill_board(board, x + half_size, y, half_size, missing_x, missing_y, new_tile_number)\n",
        "        new_tile_number = fill_board(board, x, y + half_size, half_size, center_x, center_y, new_tile_number)\n",
        "        new_tile_number = fill_board(board, x + half_size, y + half_size, half_size, center_x, center_y, new_tile_number)\n",
        "    elif missing_x >= center_x and missing_y < center_y:\n",
        "        new_tile_number = fill_board(board, x, y, half_size, center_x, center_y, new_tile_number)\n",
        "        new_tile_number = fill_board(board, x + half_size, y, half_size, center_x, center_y, new_tile_number)\n",
        "        new_tile_number = fill_board(board, x, y + half_size, half_size, missing_x, missing_y, new_tile_number)\n",
        "        new_tile_number = fill_board(board, x + half_size, y + half_size, half_size, center_x, center_y, new_tile_number)\n",
        "    else:\n",
        "        new_tile_number = fill_board(board, x, y, half_size, center_x, center_y, new_tile_number)\n",
        "        new_tile_number = fill_board(board, x + half_size, y, half_size, center_x, center_y, new_tile_number)\n",
        "        new_tile_number = fill_board(board, x, y + half_size, half_size, center_x, center_y, new_tile_number)\n",
        "        new_tile_number = fill_board(board, x + half_size, y + half_size, half_size, missing_x, missing_y, new_tile_number)\n",
        "\n",
        "    return new_tile_number\n",
        "\n",
        "def solve(N, missing_x, missing_y):\n",
        "    board = [[0] * N for _ in range(N)]  # Initialize NxN board with 0s\n",
        "    fill_board(board, 0, 0, N, missing_x, missing_y, 1)\n",
        "\n",
        "    # Print the board after filling L-shaped tiles\n",
        "    for row in board:\n",
        "        print(row)\n",
        "\n",
        "# Example usage\n",
        "N = 8  # Size of the board (8x8)\n",
        "missing_x = 3  # Row index of the missing cell\n",
        "missing_y = 3  # Column index of the missing cell\n",
        "\n",
        "solve(N, missing_x, missing_y)\n"
      ],
      "metadata": {
        "id": "ENMoOOjsuSZ2"
      },
      "execution_count": null,
      "outputs": []
    },
    {
      "cell_type": "code",
      "source": [
        "from collections import deque\n",
        "\n",
        "def orangesRotting(grid):\n",
        "    rows, cols = len(grid), len(grid[0])\n",
        "    queue = deque()\n",
        "    fresh_oranges = 0\n",
        "    directions = [(1, 0), (-1, 0), (0, 1), (0, -1)]\n",
        "\n",
        "    for r in range(rows):\n",
        "        for c in range(cols):\n",
        "            if grid[r][c] == 2:\n",
        "                queue.append((r, c))\n",
        "            elif grid[r][c] == 1:\n",
        "                fresh_oranges += 1\n",
        "\n",
        "    if fresh_oranges == 0:\n",
        "        return 0\n",
        "\n",
        "    minutes = 0\n",
        "    while queue:\n",
        "        size = len(queue)\n",
        "        for _ in range(size):\n",
        "            x, y = queue.popleft()\n",
        "            for dx, dy in directions:\n",
        "                nx, ny = x + dx, y + dy\n",
        "                if 0 <= nx < rows and 0 <= ny < cols and grid[nx][ny] == 1:\n",
        "                    grid[nx][ny] = 2\n",
        "                    fresh_oranges -= 1\n",
        "                    queue.append((nx, ny))\n",
        "        minutes += 1\n",
        "\n",
        "    if fresh_oranges > 0:\n",
        "        return -1\n",
        "\n",
        "    return minutes"
      ],
      "metadata": {
        "id": "AbFw1BioBVlk"
      },
      "execution_count": null,
      "outputs": []
    },
    {
      "cell_type": "code",
      "source": [
        "\n",
        "from collections import deque\n",
        "\n",
        "def min_dice_throws(moves):\n",
        "    N = len(moves)\n",
        "    dist = [-1] * N\n",
        "    dist[0] = 0\n",
        "    queue = deque([0])\n",
        "\n",
        "    while queue:\n",
        "        curr = queue.popleft()\n",
        "\n",
        "        for dice in range(1, 7):\n",
        "            next_pos = curr + dice\n",
        "            if next_pos < N:\n",
        "                if moves[next_pos] != -1:\n",
        "                    destination = moves[next_pos]\n",
        "                else:\n",
        "                    destination = next_pos\n",
        "\n",
        "                if dist[destination] == -1:\n",
        "                    dist[destination] = dist[curr] + 1\n",
        "                    queue.append(destination)\n",
        "                    if destination == N - 1:\n",
        "                        return dist[destination]\n",
        "\n",
        "    return -1\n",
        "\n",
        "N = 30\n",
        "moves = [-1] * N\n",
        "moves[2] = 21\n",
        "moves[4] = 7\n",
        "moves[10] = 25\n",
        "moves[19] = 28\n",
        "moves[26] = 0\n",
        "moves[20] = 8\n",
        "moves[16] = 3\n",
        "moves[18] = 6\n",
        "\n",
        "print(\"Min Dice throws required is\", min_dice_throws(moves))"
      ],
      "metadata": {
        "colab": {
          "base_uri": "https://localhost:8080/"
        },
        "id": "qzw6g1vq97DT",
        "outputId": "daaeacd9-edec-4d55-cf12-fb60893ca51d"
      },
      "execution_count": 1,
      "outputs": [
        {
          "output_type": "stream",
          "name": "stdout",
          "text": [
            "Min Dice throws required is 3\n"
          ]
        }
      ]
    },
    {
      "cell_type": "markdown",
      "source": [
        "\n",
        "from collections import deque\n",
        "\n",
        "def min_dice_throws(moves):\n",
        "    N = len(moves)\n",
        "    dist = [-1] * N\n",
        "    dist[0] = 0\n",
        "    queue = deque([0])\n",
        "    \n",
        "    while queue:\n",
        "        curr = queue.popleft()\n",
        "        \n",
        "        for dice in range(1, 7):\n",
        "            next_pos = curr + dice\n",
        "            if next_pos < N:\n",
        "                if moves[next_pos] != -1:\n",
        "                    destination = moves[next_pos]\n",
        "                else:\n",
        "                    destination = next_pos\n",
        "                \n",
        "                if dist[destination] == -1:\n",
        "                    dist[destination] = dist[curr] + 1\n",
        "                    queue.append(destination)\n",
        "                    if destination == N - 1:\n",
        "                        return dist[destination]\n",
        "    \n",
        "    return -1\n",
        "\n",
        "N = 30\n",
        "moves = [-1] * N\n",
        "moves[2] = 21\n",
        "moves[4] = 7\n",
        "moves[10] = 25\n",
        "moves[19] = 28\n",
        "moves[26] = 0\n",
        "moves[20] = 8\n",
        "moves[16] = 3\n",
        "moves[18] = 6\n",
        "\n",
        "print(\"Min Dice throws required is\", min_dice_throws(moves))"
      ],
      "metadata": {
        "id": "JXTSyKCF91uz"
      }
    }
  ]
}