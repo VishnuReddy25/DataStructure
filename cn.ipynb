{
  "nbformat": 4,
  "nbformat_minor": 0,
  "metadata": {
    "colab": {
      "provenance": [],
      "authorship_tag": "ABX9TyNPRjyZ5HieTiHMeKZAaPDx",
      "include_colab_link": true
    },
    "kernelspec": {
      "name": "python3",
      "display_name": "Python 3"
    },
    "language_info": {
      "name": "python"
    }
  },
  "cells": [
    {
      "cell_type": "markdown",
      "metadata": {
        "id": "view-in-github",
        "colab_type": "text"
      },
      "source": [
        "<a href=\"https://colab.research.google.com/github/VishnuReddy25/DataStructure/blob/main/cn.ipynb\" target=\"_parent\"><img src=\"https://colab.research.google.com/assets/colab-badge.svg\" alt=\"Open In Colab\"/></a>"
      ]
    },
    {
      "cell_type": "code",
      "execution_count": null,
      "metadata": {
        "colab": {
          "base_uri": "https://localhost:8080/"
        },
        "id": "MDGInEusUL_0",
        "outputId": "caedd7fa-75b3-4fdb-8c95-3284e8ab1c2b"
      },
      "outputs": [
        {
          "output_type": "stream",
          "name": "stdout",
          "text": [
            "{'A': 0, 'B': 1, 'C': 3}\n",
            "{'A': 1, 'B': 0, 'C': 2}\n",
            "{'A': 3, 'B': 2, 'C': 0}\n"
          ]
        }
      ],
      "source": [
        "def distance_vector_routing(graph, source):\n",
        "    # Initialize distance table\n",
        "    dist = {node: float('inf') for node in graph}\n",
        "    dist[source] = 0\n",
        "    update = True\n",
        "    while update:\n",
        "        update = False\n",
        "        for node in graph:\n",
        "            for neighbor, cost in graph[node]:\n",
        "                if dist[neighbor] > dist[node] + cost:\n",
        "                    dist[neighbor] = dist[node] + cost\n",
        "                    update = True\n",
        "    return dist\n",
        "\n",
        "# Example graph represented as an adjacency list (node -> [(neighbor, cost)])\n",
        "graph = {\n",
        "    'A': [('B', 1), ('C', 5)],\n",
        "    'B': [('A', 1), ('C', 2)],\n",
        "    'C': [('A', 5), ('B', 2)]\n",
        "}\n",
        "\n",
        "print(distance_vector_routing(graph, \"A\"))\n",
        "print(distance_vector_routing(graph, \"B\"))\n",
        "print(distance_vector_routing(graph, \"C\"))"
      ]
    },
    {
      "cell_type": "code",
      "source": [
        "import heapq\n",
        "\n",
        "def link_state_routing(graph, source):\n",
        "    dist = {node: float('inf') for node in graph}\n",
        "    dist[source] = 0\n",
        "    pq = [(0, source)]  # (cost, node)\n",
        "\n",
        "    while pq:\n",
        "        d, node = heapq.heappop(pq)\n",
        "        if d > dist[node]:\n",
        "            continue\n",
        "        for neighbor, cost in graph[node]:\n",
        "            new_dist = dist[node] + cost\n",
        "            if new_dist < dist[neighbor]:\n",
        "                dist[neighbor] = new_dist\n",
        "                heapq.heappush(pq, (new_dist, neighbor))\n",
        "    return dist\n",
        "\n",
        "# Example graph as adjacency list\n",
        "graph = {\n",
        "    'A': [('B', 1), ('C', 4)],\n",
        "    'B': [('A', 1), ('C', 2), ('D', 5)],\n",
        "    'C': [('A', 4), ('B', 2), ('D', 1)],\n",
        "    'D': [('B', 5), ('C', 1)]\n",
        "}\n",
        "\n",
        "source = 'A'\n",
        "print(link_state_routing(graph, source))\n",
        "print(link_state_routing(graph, 'B'))\n",
        "print(link_state_routing(graph, 'C'))\n"
      ],
      "metadata": {
        "colab": {
          "base_uri": "https://localhost:8080/"
        },
        "id": "dGrCgaORUPic",
        "outputId": "2af79935-882e-4e91-b88d-2bde5d43c4dd"
      },
      "execution_count": null,
      "outputs": [
        {
          "output_type": "stream",
          "name": "stdout",
          "text": [
            "{'A': 0, 'B': 1, 'C': 3, 'D': 4}\n",
            "{'A': 1, 'B': 0, 'C': 2, 'D': 3}\n",
            "{'A': 3, 'B': 2, 'C': 0, 'D': 1}\n"
          ]
        }
      ]
    },
    {
      "cell_type": "code",
      "source": [
        "import time\n",
        "import random\n",
        "# Sender side\n",
        "def sender(data, timeout=2):\n",
        "    for i, packet in enumerate(data):\n",
        "        while True:\n",
        "            time.sleep(2)\n",
        "            print(f\"Sending packet {i + 1}: {packet}\")\n",
        "            print()\n",
        "            time.sleep(2)\n",
        "            ack = simulate_receiver(packet, timeout,i)  # Wait for ACK from receiver\n",
        "            if ack:\n",
        "                print(f\"Packet {i + 1} acknowledged.\")\n",
        "                print()\n",
        "                break\n",
        "            else:\n",
        "                print(f\"Timeout. Resending packet {i + 1}...\")\n",
        "                print()\n",
        "\n",
        "# Receiver side (simulates receiving a packet and sending an ACK)\n",
        "def simulate_receiver(packet, timeout,i):\n",
        "    # Simulate random packet loss or delay\n",
        "\n",
        "    print()\n",
        "    x=random.randint(0,4)\n",
        "    if x<=2:\n",
        "      time.sleep(2)\n",
        "      print(f\"packet {i+1} received\")\n",
        "      return True  # In reality, you could introduce random delays or losses here\n",
        "    else:\n",
        "      return False\n",
        "# Example data (packets)\n",
        "data = [\"Packet 1\", \"Packet 2\", \"Packet 3\"]\n",
        "sender(data)\n"
      ],
      "metadata": {
        "colab": {
          "base_uri": "https://localhost:8080/"
        },
        "id": "b8HM05sVUSRi",
        "outputId": "d7d65c31-a0c5-4f72-9d13-2c7761b7194a"
      },
      "execution_count": null,
      "outputs": [
        {
          "output_type": "stream",
          "name": "stdout",
          "text": [
            "Sending packet 1: Packet 1\n",
            "\n",
            "\n",
            "Timeout. Resending packet 1...\n",
            "\n",
            "Sending packet 1: Packet 1\n",
            "\n",
            "\n",
            "Timeout. Resending packet 1...\n",
            "\n",
            "Sending packet 1: Packet 1\n",
            "\n",
            "\n",
            "packet 1 received\n",
            "Packet 1 acknowledged.\n",
            "\n",
            "Sending packet 2: Packet 2\n",
            "\n",
            "\n",
            "packet 2 received\n",
            "Packet 2 acknowledged.\n",
            "\n",
            "Sending packet 3: Packet 3\n",
            "\n",
            "\n",
            "packet 3 received\n",
            "Packet 3 acknowledged.\n",
            "\n"
          ]
        }
      ]
    },
    {
      "cell_type": "code",
      "source": [
        "import smtplib\n",
        "\n",
        "li = [\"vishnu2522004@gmail.com\", \"hrishikreddy2005@gmail.com\", \"ishankarnarayna@gmail.com\", \"mayoorp@gmail.com\",\"emmadimithil@gmail.com\"]\n",
        "\n",
        "for dest in li:\n",
        "    s = smtplib.SMTP('smtp.gmail.com', 587)\n",
        "    s.starttls()\n",
        "    s.login(\"vishnu2522004@gmail.com\", \"YourAppPasswordHere\")\n",
        "    message = \"Hello my dear friends\"\n",
        "    s.sendmail(\"vishnu2522004@gmail.com\", dest, message)\n",
        "    s.quit()\n"
      ],
      "metadata": {
        "collapsed": true,
        "id": "Sf16cnnuUSuj"
      },
      "execution_count": null,
      "outputs": []
    },
    {
      "cell_type": "code",
      "source": [
        "set ns [new Simulator]\n",
        "set nf [open out.nam w]\n",
        "$ns namtrace-all $nf\n",
        "proc finish {} {\n",
        "    global ns nf\n",
        "    $ns flush-trace\n",
        "    close $nf\n",
        "    exec nam out.nam &\n",
        "    exit 0\n",
        "}\n",
        "set n0 [$ns node]\n",
        "set n1 [$ns node]\n",
        "set n2 [$ns node]\n",
        "set n3 [$ns node]\n",
        "set n4 [$ns node]\n",
        "set n5 [$ns node]\n",
        "$n0 shape square\n",
        "$ns duplex-link $n0 $n1 1Mb 10ms DropTail\n",
        "$ns duplex-link $n0 $n2 1Mb 10ms DropTail\n",
        "$ns duplex-link $n0 $n3 1Mb 10ms DropTail\n",
        "$ns duplex-link $n0 $n4 1Mb 10ms DropTail\n",
        "$ns duplex-link $n0 $n5 1Mb 10ms DropTail\n",
        "\n",
        "set tcp0 [new Agent/TCP]\n",
        "$tcp0 set class_ 1\n",
        "$ns attach-agent $n1 $tcp0\n",
        "set sink0 [new Agent/TCPSink]\n",
        "$ns attach-agent $n3 $sink0\n",
        "$ns connect $tcp0 $sink0\n",
        "\n",
        "set cbr0 [new Application/Traffic/CBR]\n",
        "$cbr0 set packetSize_ 500\n",
        "$cbr0 set interval_ 0.01\n",
        "$cbr0 attach-agent $tcp0\n",
        "$ns at 0.5 \"$cbr0 start\"\n",
        "$ns at 4.5 \"$cbr0 stop\"\n",
        "$ns at 5.0 \"finish\"\n",
        "$ns run\n",
        "\n"
      ],
      "metadata": {
        "colab": {
          "base_uri": "https://localhost:8080/",
          "height": 105
        },
        "id": "fPuXMHbpUciG",
        "outputId": "30a3a311-9a08-4f85-9703-46e472947653"
      },
      "execution_count": null,
      "outputs": [
        {
          "output_type": "execute_result",
          "data": {
            "text/plain": [
              "'\\n\\nset ns [new Simulator]\\nset nf [open out.nam w]\\n$ns namtrace-all $nf\\nproc finish {} {\\n    global ns nf\\n    $ns flush-trace\\n    close $nf\\n    exec nam out.nam &\\n    exit 0\\n}\\nset n0 [$ns node]\\nset n1 [$ns node]\\nset n2 [$ns node]\\nset n3 [$ns node]\\nset n4 [$ns node]\\nset n5 [$ns node]\\n$n0 shape square\\n$ns duplex-link $n0 $n1 1Mb 10ms DropTail\\n$ns duplex-link $n0 $n2 1Mb 10ms DropTail\\n$ns duplex-link $n0 $n3 1Mb 10ms DropTail\\n$ns duplex-link $n0 $n4 1Mb 10ms DropTail\\n$ns duplex-link $n0 $n5 1Mb 10ms DropTail\\nset tcp0 [new Agent/TCP]\\n$tcp0 set class_ 1\\n$ns attach-agent $n1 $tcp0\\nset sink0 [new Agent/TCPSink]\\n$ns attach-agent $n3 $sink0\\n$ns connect $tcp0 $sink0\\nset cbr0 [new Application/Traffic/CBR]\\n$cbr0 set packetSize_ 500\\n$cbr0 set interval_ 0.01\\n$cbr0 attach-agent $tcp0\\n$ns at 0.5 \"$cbr0 start\"\\n$ns at 4.5 \"$cbr0 stop\"\\n$ns at 5.0 \"finish\"\\n$ns run\\n\\n'"
            ],
            "application/vnd.google.colaboratory.intrinsic+json": {
              "type": "string"
            }
          },
          "metadata": {},
          "execution_count": 5
        }
      ]
    },
    {
      "cell_type": "code",
      "source": [
        "# Create a new simulator instance\n",
        "set ns [new Simulator]\n",
        "\n",
        "# Define output trace file\n",
        "set nf [open out.tr w]\n",
        "$ns trace-all $nf\n",
        "\n",
        "# Define nodes\n",
        "set n1 [$ns node]\n",
        "set n2 [$ns node]\n",
        "\n",
        "# Create a duplex link between the nodes\n",
        "$ns duplex-link $n1 $n2 2Mb 10ms DropTail\n",
        "\n",
        "# Set up TCP agent (sender) on node n1\n",
        "set tcp [new Agent/TCP]\n",
        "$ns attach-agent $n1 $tcp\n",
        "\n",
        "# Set up TCP Sink agent (receiver) on node n2\n",
        "set sink [new Agent/TCPSink]\n",
        "$ns attach-agent $n2 $sink\n",
        "\n",
        "# Connect TCP and Sink agents\n",
        "$ns connect $tcp $sink\n",
        "\n",
        "# Set window size for sliding window (in packets)\n",
        "$tcp set window_ 5\n",
        "\n",
        "# Create an application to send data\n",
        "set ftp [new Application/FTP]\n",
        "$ftp attach-agent $tcp\n",
        "$ftp set type_ FTP\n",
        "\n",
        "# Schedule the start of the FTP transfer\n",
        "$ns at 0.5 \"$ftp start\"\n",
        "\n",
        "# Schedule the end of the simulation\n",
        "$ns at 5.0 \"finish\"\n",
        "\n",
        "# Define a finish procedure to close the trace file\n",
        "proc finish {} {\n",
        "    global ns nf\n",
        "    $ns flush-trace\n",
        "    close $nf\n",
        "    exec nam out.nam &\n",
        "    exit 0\n",
        "}\n",
        "\n",
        "# Run the simulation\n",
        "$ns run\n"
      ],
      "metadata": {
        "id": "WZUldH6t8kXe"
      },
      "execution_count": null,
      "outputs": []
    },
    {
      "cell_type": "code",
      "source": [
        "#tcp client\n",
        "import socket\n",
        "\n",
        "s = socket.socket()\n",
        "port = 12345\n",
        "s.connect(('127.0.0.1', port))\n",
        "\n",
        "while True:\n",
        "    message = input(\"Enter message for server: \")\n",
        "    s.send(message.encode())\n",
        "\n",
        "    if not message:\n",
        "        break\n",
        "\n",
        "    data = s.recv(1024).decode()\n",
        "    print(f\"Server: {data}\")\n",
        "\n",
        "s.close()\n"
      ],
      "metadata": {
        "id": "0_9fW9BfrPL2"
      },
      "execution_count": null,
      "outputs": []
    },
    {
      "cell_type": "code",
      "source": [
        "#tcpserver\n",
        "import socket\n",
        "\n",
        "s = socket.socket()\n",
        "port = 12345\n",
        "s.bind(('127.0.0.1', port))\n",
        "s.listen(5)\n",
        "print(f\"Socket listening on port {port}...\")\n",
        "\n",
        "while True:\n",
        "\n",
        "    c, addr = s.accept()\n",
        "    print(f\"Got connection from {addr}\")\n",
        "\n",
        "    while True:\n",
        "\n",
        "        message = c.recv(1024).decode()\n",
        "\n",
        "        if not message:\n",
        "            break\n",
        "\n",
        "        print(f\"Client: {message}\")\n",
        "\n",
        "\n",
        "        c.send(input(\"Enter reply to client: \").encode())\n",
        "\n",
        "    c.close()\n",
        "\n"
      ],
      "metadata": {
        "id": "P7j-0AEYrUYy"
      },
      "execution_count": null,
      "outputs": []
    },
    {
      "cell_type": "code",
      "source": [
        "import socket\n",
        "#udpclient\n",
        "s = socket.socket(socket.AF_INET, socket.SOCK_DGRAM)  # Create a UDP socket\n",
        "server_addr = ('127.0.0.1', 12345)\n",
        "\n",
        "while True:\n",
        "    message = input(\"Enter message for server: \")\n",
        "    s.sendto(message.encode(), server_addr)  # Send message to server\n",
        "\n",
        "    if not message:\n",
        "        break\n",
        "\n",
        "    data, addr = s.recvfrom(1024)  # Receive response from the server\n",
        "    print(f\"Server: {data.decode()}\")\n",
        "\n",
        "s.close()\n"
      ],
      "metadata": {
        "id": "HbqjSyzQrdeN"
      },
      "execution_count": null,
      "outputs": []
    },
    {
      "cell_type": "code",
      "source": [
        "#udpserver\n",
        "import socket\n",
        "\n",
        "s = socket.socket(socket.AF_INET, socket.SOCK_DGRAM)  # Create a UDP socket\n",
        "port = 12345\n",
        "\n",
        "s.bind(('', port))\n",
        "print(f\"UDP Server listening on port {port}...\")\n",
        "\n",
        "while True:\n",
        "    data, addr = s.recvfrom(1024)  # Receive message from client\n",
        "\n",
        "    print(f\"Client: {data.decode()} from {addr}\")\n",
        "\n",
        "    s.sendto(input(\"Enter reply to client: \").encode(), addr)  # Send message back to the client\n",
        "\n"
      ],
      "metadata": {
        "id": "Nx_2eWQCrg8L"
      },
      "execution_count": null,
      "outputs": []
    },
    {
      "cell_type": "code",
      "source": [
        "set ns [new Simulator]\n",
        "set namf [open wired2.nam w]\n",
        "$ns namtrace-all $namf\n",
        "set tracef [open wired2.tr w]\n",
        "$ns trace-all $tracef\n",
        "set n0 [$ns node]\n",
        "set n1 [$ns node]\n",
        "set n2 [$ns node]\n",
        "set n3 [$ns node]\n",
        "$ns duplex-link $n0 $n1 2MB 1ms DropTail\n",
        "$ns duplex-link $n1 $n2 2.5MB 1ms RED\n",
        "$ns duplex-link $n2 $n3 2MB 1.5ms DropTail\n",
        "$ns duplex-link $n3 $n1 12MB 10ms DropTail\n",
        "set tcp [new Agent/TCP]\n",
        "set sink [new Agent/TCPSink]\n",
        "$ns attach-agent $n0 $tcp\n",
        "$ns attach-agent $n2 $sink\n",
        "set ftp [new Application/FTP]\n",
        "$ftp attach-agent $tcp\n",
        "$ns connect $tcp $sink\n",
        "$ns at 1.0 \"$ftp start\"\n",
        "$ns at 3.0 \"finish\"\n",
        "proc finish {} {\n",
        "    global ns namf tracef\n",
        "    $ns flush-trace\n",
        "    close $namf\n",
        "    close $tracef\n",
        "    exec nam wired2.nam &\n",
        "    exit 0\n",
        "}\n",
        "$ns run"
      ],
      "metadata": {
        "id": "P2e4-o8y9CUl"
      },
      "execution_count": null,
      "outputs": []
    }
  ]
}