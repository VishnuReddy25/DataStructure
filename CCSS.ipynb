{
  "nbformat": 4,
  "nbformat_minor": 0,
  "metadata": {
    "colab": {
      "provenance": [],
      "include_colab_link": true
    },
    "kernelspec": {
      "name": "python3",
      "display_name": "Python 3"
    },
    "language_info": {
      "name": "python"
    }
  },
  "cells": [
    {
      "cell_type": "markdown",
      "metadata": {
        "id": "view-in-github",
        "colab_type": "text"
      },
      "source": [
        "<a href=\"https://colab.research.google.com/github/VishnuReddy25/DataStructure/blob/main/CCSS.ipynb\" target=\"_parent\"><img src=\"https://colab.research.google.com/assets/colab-badge.svg\" alt=\"Open In Colab\"/></a>"
      ]
    },
    {
      "cell_type": "markdown",
      "source": [
        "# Ooh"
      ],
      "metadata": {
        "id": "Kmf2R4IsbyzS"
      }
    },
    {
      "cell_type": "code",
      "execution_count": null,
      "metadata": {
        "id": "Xppca-3v-7aY",
        "colab": {
          "base_uri": "https://localhost:8080/"
        },
        "outputId": "d3540168-e191-418d-b6bf-79d2035733d9"
      },
      "outputs": [
        {
          "output_type": "stream",
          "name": "stdout",
          "text": [
            "5\n"
          ]
        }
      ],
      "source": [
        "# [1] Max Stock Profit\n",
        "def maxProfit(prices):\n",
        "    mn, mx = float('inf'), 0\n",
        "    for p in prices:\n",
        "        mn, mx = min(mn, p), max(mx, p - mn)\n",
        "    return mx\n",
        "\n",
        "# Sample Input\n",
        "print(maxProfit([7, 1, 5, 3, 6, 4]))  # Output: 5\n"
      ]
    },
    {
      "cell_type": "code",
      "source": [
        "# [2] Max Subarray Sum\n",
        "def maxSubArray(nums):\n",
        "    cur = max_sum = nums[0]\n",
        "    for n in nums[1:]:\n",
        "        cur = max(n, cur + n)\n",
        "        max_sum = max(max_sum, cur)\n",
        "    return max_sum\n",
        "\n",
        "# Sample Input\n",
        "print(maxSubArray([-2, 1, -3, 4, -1, 2, 1, -5, 4]))  # Output: 6\n"
      ],
      "metadata": {
        "id": "bW98GRZZCcXk"
      },
      "execution_count": null,
      "outputs": []
    },
    {
      "cell_type": "code",
      "source": [
        "# [3] Binary Search Page Count\n",
        "def pageSearchCount(n, pg):\n",
        "    l, r, cnt = 1, n, 0\n",
        "    while l <= r:\n",
        "        cnt += 1\n",
        "        m = (l + r) // 2\n",
        "        if m == pg: return cnt\n",
        "        if m < pg: l = m + 1\n",
        "        else: r = m - 1\n",
        "    return -1\n",
        "\n",
        "# Sample Input\n",
        "print(pageSearchCount(100, 75))  # Output: 7\n"
      ],
      "metadata": {
        "id": "ZTUNfI2sCdIa",
        "colab": {
          "base_uri": "https://localhost:8080/"
        },
        "outputId": "7f81b329-6d6f-4a9f-d083-7ce620e7c0b9"
      },
      "execution_count": null,
      "outputs": [
        {
          "output_type": "stream",
          "name": "stdout",
          "text": [
            "2\n"
          ]
        }
      ]
    },
    {
      "cell_type": "code",
      "source": [
        "# [4] Find Missing Number\n",
        "def findMissing(nums):\n",
        "    nums.sort()\n",
        "    l, r = 0, len(nums)\n",
        "    while l < r:\n",
        "        m = (l + r) // 2\n",
        "        if nums[m] == m: l = m + 1\n",
        "        else: r = m\n",
        "    return l\n",
        "\n",
        "# Sample Input\n",
        "print(findMissing([3, 0, 1]))  # Output: 2\n"
      ],
      "metadata": {
        "id": "aS5zg1K8CdLC"
      },
      "execution_count": null,
      "outputs": []
    },
    {
      "cell_type": "code",
      "source": [
        "# [5] Single Number\n",
        "def findSingle(nums):\n",
        "    nums.sort()\n",
        "    l, r = 0, len(nums) - 1\n",
        "    while l < r:\n",
        "        m = (l + r) // 2\n",
        "        if m % 2 == 1: m -= 1\n",
        "        if nums[m] == nums[m+1]: l = m + 2\n",
        "        else: r = m\n",
        "    return nums[l]\n",
        "\n",
        "# Sample Input\n",
        "print(findSingle([4, 1, 2, 1, 2]))  # Output: 4\n"
      ],
      "metadata": {
        "id": "G4qFxcuoCdN6"
      },
      "execution_count": null,
      "outputs": []
    },
    {
      "cell_type": "code",
      "source": [
        "# [6] Nth Root of M\n",
        "def nthRoot(n, m):\n",
        "    l, r = 0, m\n",
        "    while l <= r:\n",
        "        mid = (l + r) // 2\n",
        "        pwr = mid ** n\n",
        "        if pwr == m: return mid\n",
        "        if pwr < m: l = mid + 1\n",
        "        else: r = mid - 1\n",
        "    return -1\n",
        "\n",
        "# Sample Input\n",
        "print(nthRoot(3, 27))  # Output: 3\n"
      ],
      "metadata": {
        "id": "Jtn2zcOPCdQi"
      },
      "execution_count": null,
      "outputs": []
    },
    {
      "cell_type": "code",
      "source": [
        "# [7] Towers of Hanoi\n",
        "def hanoi(n, src, aux, dst):\n",
        "    if n == 1: print(f\"{src} -> {dst}\")\n",
        "    else:\n",
        "        hanoi(n-1, src, dst, aux)\n",
        "        print(f\"{src} -> {dst}\")\n",
        "        hanoi(n-1, aux, src, dst)\n",
        "\n",
        "# Sample Input\n",
        "hanoi(3, 'A', 'B', 'C')\n",
        "# Output:\n",
        "# A -> C\n",
        "# A -> B\n",
        "# C -> B\n",
        "# A -> C\n",
        "# B -> A\n",
        "# B -> C\n",
        "# A -> C\n"
      ],
      "metadata": {
        "id": "Hpt5XV31CdTN"
      },
      "execution_count": null,
      "outputs": []
    },
    {
      "cell_type": "code",
      "source": [
        "# [8] Extended Bubble Sort\n",
        "def bubbleSortStrings(arr):\n",
        "    for i in range(len(arr)-1):\n",
        "        for j in range(len(arr)-i-1):\n",
        "            if arr[j] > arr[j+1]: arr[j], arr[j+1] = arr[j+1], arr[j]\n",
        "    return arr\n",
        "\n",
        "# Sample Input\n",
        "print(bubbleSortStrings([\"banana\", \"apple\", \"orange\"]))  # Output: ['apple', 'banana', 'orange']\n"
      ],
      "metadata": {
        "id": "UgV_TTikCdV1"
      },
      "execution_count": null,
      "outputs": []
    },
    {
      "cell_type": "code",
      "source": [
        "# [9] Missing Elements in Range\n",
        "def missingInRange(arr, low, high):\n",
        "    arr = set(arr)\n",
        "    return sorted([x for x in range(low, high+1) if x not in arr])\n",
        "\n",
        "# Sample Input\n",
        "print(missingInRange([2, 5, 7], 1, 10))  # Output: [1, 3, 4, 6, 8, 9, 10]\n"
      ],
      "metadata": {
        "id": "911CAjeDCdYi"
      },
      "execution_count": null,
      "outputs": []
    },
    {
      "cell_type": "code",
      "source": [
        "# [10] Chocolate Distribution\n",
        "def minChocolateDist(arr, m):\n",
        "    arr.sort()\n",
        "    return min(arr[i+m-1] - arr[i] for i in range(len(arr)-m+1))\n",
        "\n",
        "# Sample Input\n",
        "print(minChocolateDist([12, 4, 7, 9, 2, 23, 25, 41], 3))  # Output: 2\n"
      ],
      "metadata": {
        "id": "rHGmOC9aCdbU"
      },
      "execution_count": null,
      "outputs": []
    },
    {
      "cell_type": "code",
      "source": [
        "# [11] Minimum Platforms Required\n",
        "def minPlatforms(arr, dep):\n",
        "    arr.sort()\n",
        "    dep.sort()\n",
        "    i = j = platforms = result = 0\n",
        "    while i < len(arr):\n",
        "        if arr[i] <= dep[j]:\n",
        "            platforms += 1\n",
        "            i += 1\n",
        "        else:\n",
        "            platforms -= 1\n",
        "            j += 1\n",
        "        result = max(result, platforms)\n",
        "    return result\n",
        "\n",
        "# Sample Input\n",
        "print(minPlatforms([900, 940, 950, 1100], [910, 1200, 1120, 1130]))  # Output: 3\n"
      ],
      "metadata": {
        "id": "8zap81FMCdd6"
      },
      "execution_count": null,
      "outputs": []
    },
    {
      "cell_type": "code",
      "source": [
        "# [12] Reverse Stack\n",
        "def reverseStack(stack):\n",
        "    if not stack: return\n",
        "    top = stack.pop()\n",
        "    reverseStack(stack)\n",
        "    insertAtBottom(stack, top)\n",
        "\n",
        "def insertAtBottom(stack, item):\n",
        "    if not stack: stack.append(item)\n",
        "    else:\n",
        "        top = stack.pop()\n",
        "        insertAtBottom(stack, item)\n",
        "        stack.append(top)\n",
        "\n",
        "# Sample Input\n",
        "stack = [1, 2, 3, 4]\n",
        "reverseStack(stack)\n",
        "print(stack)  # Output: [4, 3, 2, 1]\n"
      ],
      "metadata": {
        "id": "VkXYC3QHCdgk"
      },
      "execution_count": null,
      "outputs": []
    },
    {
      "cell_type": "code",
      "source": [
        "# [13] Sort Stack\n",
        "def sortStack(stack):\n",
        "    temp_stack = []\n",
        "    while stack:\n",
        "        tmp = stack.pop()\n",
        "        while temp_stack and temp_stack[-1] > tmp:\n",
        "            stack.append(temp_stack.pop())\n",
        "        temp_stack.append(tmp)\n",
        "    return temp_stack\n",
        "\n",
        "# Sample Input\n",
        "print(sortStack([34, 3, 31, 98, 92, 23]))  # Output: [3, 23, 31, 34, 92, 98]\n"
      ],
      "metadata": {
        "id": "9Jj3A9XgCdja"
      },
      "execution_count": null,
      "outputs": []
    },
    {
      "cell_type": "code",
      "source": [
        "# [14] Find Celebrity\n",
        "def findCelebrity(M):\n",
        "    stack = [i for i in range(len(M))]\n",
        "    while len(stack) > 1:\n",
        "        a, b = stack.pop(), stack.pop()\n",
        "        if M[a][b]: stack.append(b)\n",
        "        else: stack.append(a)\n",
        "    c = stack.pop()\n",
        "    if all(M[c][i] == 0 for i in range(len(M)) if i != c) and all(M[i][c] == 1 for i in range(len(M)) if i != c):\n",
        "        return c\n",
        "    return -1\n",
        "\n",
        "# Sample Input\n",
        "M = [[0, 1, 0], [0, 0, 0], [0, 1, 0]]\n",
        "print(findCelebrity(M))  # Output: 1\n"
      ],
      "metadata": {
        "id": "f0cSoqJ0CdmL"
      },
      "execution_count": null,
      "outputs": []
    },
    {
      "cell_type": "code",
      "source": [
        "# [15] Stack Permutation\n",
        "def isStackPermutation(input_seq, output_seq):\n",
        "    stack, i = [], 0\n",
        "    for num in input_seq:\n",
        "        stack.append(num)\n",
        "        while stack and stack[-1] == output_seq[i]:\n",
        "            stack.pop()\n",
        "            i += 1\n",
        "    return i == len(output_seq)\n",
        "\n",
        "# Sample Input\n",
        "print(isStackPermutation([1, 2, 3], [3, 2, 1]))  # Output: True\n"
      ],
      "metadata": {
        "id": "m0jSem93Cdo6"
      },
      "execution_count": null,
      "outputs": []
    },
    {
      "cell_type": "code",
      "source": [
        "# [16] Stack Using Single Queue\n",
        "from collections import deque\n",
        "class Stack:\n",
        "    def __init__(self):\n",
        "        self.q = deque()\n",
        "\n",
        "    def push(self, x):\n",
        "        self.q.append(x)\n",
        "        for _ in range(len(self.q)-1):\n",
        "            self.q.append(self.q.popleft())\n",
        "\n",
        "    def pop(self):\n",
        "        return self.q.popleft() if self.q else None\n",
        "\n",
        "# Sample Input\n",
        "s = Stack()\n",
        "s.push(1)\n",
        "s.push(2)\n",
        "print(s.pop())  # Output: 2\n"
      ],
      "metadata": {
        "id": "NEshF3OOCdry"
      },
      "execution_count": null,
      "outputs": []
    },
    {
      "cell_type": "code",
      "source": [
        "# [17] Queue Using Two Stacks\n",
        "class Queue:\n",
        "    def __init__(self):\n",
        "        self.stack1 = []\n",
        "        self.stack2 = []\n",
        "\n",
        "    def enqueue(self, x):\n",
        "        self.stack1.append(x)\n",
        "\n",
        "    def dequeue(self):\n",
        "        if not self.stack2:\n",
        "            while self.stack1:\n",
        "                self.stack2.append(self.stack1.pop())\n",
        "        return self.stack2.pop() if self.stack2 else None\n",
        "\n",
        "# Sample Input\n",
        "q = Queue()\n",
        "q.enqueue(1)\n",
        "q.enqueue(2)\n",
        "print(q.dequeue())  # Output: 1\n"
      ],
      "metadata": {
        "id": "VkTOaf4TCduq"
      },
      "execution_count": null,
      "outputs": []
    },
    {
      "cell_type": "code",
      "source": [
        "# [20] Unique Element\n",
        "def findUnique(nums):\n",
        "    res = 0\n",
        "    for num in nums:\n",
        "        res ^= num\n",
        "    return res\n",
        "\n",
        "# Sample Input\n",
        "print(findUnique([2, 2, 1]))  # Output: 1\n"
      ],
      "metadata": {
        "id": "vMoESHhSCdxS"
      },
      "execution_count": null,
      "outputs": []
    },
    {
      "cell_type": "code",
      "source": [
        "# [22] Find Missing Number\n",
        "def missingNumber(nums):\n",
        "    res = len(nums)\n",
        "    for i, num in enumerate(nums):\n",
        "        res ^= i ^ num\n",
        "    return res\n",
        "\n",
        "# Sample Input\n",
        "print(missingNumber([3, 0, 1]))  # Output: 2\n"
      ],
      "metadata": {
        "id": "f9C4HNc8Cd0D"
      },
      "execution_count": null,
      "outputs": []
    },
    {
      "cell_type": "code",
      "source": [
        "# [23] Count 1's in Binary\n",
        "def countOnes(n):\n",
        "    count = 0\n",
        "    while n:\n",
        "        n &= n - 1\n",
        "        count += 1\n",
        "    return count\n",
        "\n",
        "# Sample Input\n",
        "print(countOnes(15))  # Output: 4\n"
      ],
      "metadata": {
        "id": "IAuAyEjyEYcb"
      },
      "execution_count": null,
      "outputs": []
    },
    {
      "cell_type": "code",
      "source": [
        "# [25] Max Height of Tree\n",
        "class TreeNode:\n",
        "    def __init__(self, val=0, left=None, right=None):\n",
        "        self.val = val\n",
        "        self.left = left\n",
        "        self.right = right\n",
        "\n",
        "def maxHeight(root):\n",
        "    return 1 + max(maxHeight(root.left), maxHeight(root.right)) if root else 0\n",
        "\n",
        "# Sample Input\n",
        "root = TreeNode(1, TreeNode(2), TreeNode(3, TreeNode(4)))\n",
        "print(maxHeight(root))  # Output: 3\n"
      ],
      "metadata": {
        "id": "hYOx0X0NEYez"
      },
      "execution_count": null,
      "outputs": []
    },
    {
      "cell_type": "code",
      "source": [
        "# [26] Identical Trees\n",
        "def areIdentical(root1, root2):\n",
        "    if not root1 and not root2: return True\n",
        "    if root1 and root2 and root1.val == root2.val:\n",
        "        return areIdentical(root1.left, root2.left) and areIdentical(root1.right, root2.right)\n",
        "    return False\n",
        "\n",
        "# Sample Input\n",
        "root1 = TreeNode(1, TreeNode(2), TreeNode(3))\n",
        "root2 = TreeNode(1, TreeNode(2), TreeNode(3))\n",
        "print(areIdentical(root1, root2))  # Output: True\n"
      ],
      "metadata": {
        "id": "srdypjI1EYh6"
      },
      "execution_count": null,
      "outputs": []
    },
    {
      "cell_type": "code",
      "source": [
        "# [28] Construct Tree\n",
        "def buildTree(preorder, inorder):\n",
        "    if not inorder: return None\n",
        "    root = TreeNode(preorder.pop(0))\n",
        "    idx = inorder.index(root.val)\n",
        "    root.left = buildTree(preorder, inorder[:idx])\n",
        "    root.right = buildTree(preorder, inorder[idx+1:])\n",
        "    return root\n",
        "\n",
        "# Sample Input\n",
        "preorder = [3, 9, 20, 15, 7]\n",
        "inorder = [9, 3, 15, 20, 7]\n",
        "root = buildTree(preorder, inorder)\n",
        "print(root.val)  # Output: 3\n"
      ],
      "metadata": {
        "id": "N4otRysOEYkZ"
      },
      "execution_count": null,
      "outputs": []
    },
    {
      "cell_type": "code",
      "source": [
        "# [31] Cycle Detection in Undirected Graph\n",
        "from collections import deque, defaultdict\n",
        "\n",
        "def hasCycle(n, edges):\n",
        "    graph = defaultdict(list)\n",
        "    for u, v in edges:\n",
        "        graph[u].append(v)\n",
        "        graph[v].append(u)\n",
        "    visited = set()\n",
        "\n",
        "    for node in range(n):\n",
        "        if node not in visited:\n",
        "            q = deque([(node, -1)])\n",
        "            while q:\n",
        "                curr, parent = q.popleft()\n",
        "                visited.add(curr)\n",
        "                for neighbor in graph[curr]:\n",
        "                    if neighbor == parent: continue\n",
        "                    if neighbor in visited: return True\n",
        "                    q.append((neighbor, curr))\n",
        "    return False\n",
        "\n",
        "# Sample Input\n",
        "print(hasCycle(3, [(0, 1), (1, 2), (2, 0)]))  # Output: True\n"
      ],
      "metadata": {
        "id": "fXjtRWbtEYnJ"
      },
      "execution_count": null,
      "outputs": []
    },
    {
      "cell_type": "code",
      "source": [
        "# [34] Cycle Detection in Directed Graph\n",
        "def hasCycleDFS(graph):\n",
        "    visited = set()\n",
        "    recStack = set()\n",
        "\n",
        "    def dfs(v):\n",
        "        visited.add(v)\n",
        "        recStack.add(v)\n",
        "        for neighbor in graph[v]:\n",
        "            if neighbor not in visited:\n",
        "                if dfs(neighbor): return True\n",
        "            elif neighbor in recStack: return True\n",
        "        recStack.remove(v)\n",
        "        return False\n",
        "\n",
        "    for node in graph:\n",
        "        if node not in visited:\n",
        "            if dfs(node): return True\n",
        "    return False\n",
        "\n",
        "# Sample Input\n",
        "graph = {0: [1], 1: [2], 2: [0]}\n",
        "print(hasCycleDFS(graph))  # Output: True\n"
      ],
      "metadata": {
        "id": "Vx1fH26qEYp5"
      },
      "execution_count": null,
      "outputs": []
    }
  ]
}